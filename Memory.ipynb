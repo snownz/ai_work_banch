{
 "cells": [
  {
   "cell_type": "code",
   "execution_count": 1,
   "metadata": {},
   "outputs": [],
   "source": [
    "import tensorflow as tf\n",
    "import numpy as np\n",
    "\n",
    "from ann_utils.fully_layer import FullyLayer\n",
    "\n",
    "from ann_utils.manager import tf_global_initializer\n",
    "\n",
    "from ann_utils.sess import TfSess"
   ]
  },
  {
   "cell_type": "code",
   "execution_count": 2,
   "metadata": {},
   "outputs": [],
   "source": [
    "sess = TfSess( \"\", gpu = False )"
   ]
  },
  {
   "cell_type": "code",
   "execution_count": 3,
   "metadata": {},
   "outputs": [],
   "source": [
    "mem_v = [[1,1,1,1,1],[3,3,3,3,3],[5,5,5,5,5]]\n",
    "ctx_v = [[5,5,5,5,5],[3,3,3,3,3]]"
   ]
  },
  {
   "cell_type": "code",
   "execution_count": 4,
   "metadata": {},
   "outputs": [],
   "source": [
    "global_step = tf.compat.v1.get_variable( 'global_step', [], \n",
    "                                         initializer = tf.constant_initializer(10000), trainable = False )\n",
    "decay_memory = tf.compat.v1.train.exponential_decay( 0.99, global_step, 100, 0.96, staircase = False )"
   ]
  },
  {
   "cell_type": "markdown",
   "metadata": {},
   "source": [
    "# Retrive Memory"
   ]
  },
  {
   "cell_type": "code",
   "execution_count": 5,
   "metadata": {},
   "outputs": [],
   "source": [
    "mem = tf.placeholder( 'float', [ 3, 5 ], name = \"mem\" )\n",
    "ctx = tf.placeholder( 'float', [ None, 5 ], name = \"ctx\" )\n",
    "\n",
    "batch_size = tf.shape(ctx)[0]\n",
    "mem_size = tf.shape(mem)[0]"
   ]
  },
  {
   "cell_type": "code",
   "execution_count": 6,
   "metadata": {},
   "outputs": [],
   "source": [
    "norm_mem = tf.norm( mem, axis = 1, keepdims = True )\n",
    "norm_ctx = tf.norm( ctx, axis = 1, keepdims = True )"
   ]
  },
  {
   "cell_type": "code",
   "execution_count": 7,
   "metadata": {},
   "outputs": [
    {
     "name": "stdout",
     "output_type": "stream",
     "text": [
      "Tensor(\"ctx:0\", shape=(?, 5), dtype=float32)\n",
      "Tensor(\"mem:0\", shape=(3, 5), dtype=float32)\n",
      "Tensor(\"norm_1/Sqrt:0\", shape=(?, 1), dtype=float32)\n",
      "Tensor(\"norm/Sqrt:0\", shape=(3, 1), dtype=float32)\n"
     ]
    }
   ],
   "source": [
    "print(ctx)\n",
    "print(mem)\n",
    "print(norm_ctx)\n",
    "print(norm_mem)"
   ]
  },
  {
   "cell_type": "code",
   "execution_count": 8,
   "metadata": {},
   "outputs": [
    {
     "data": {
      "text/plain": [
       "<tf.Tensor 'sub_1:0' shape=(?, 3) dtype=float32>"
      ]
     },
     "execution_count": 8,
     "metadata": {},
     "output_type": "execute_result"
    }
   ],
   "source": [
    "simi = 1.0 - tf.nn.l2_normalize( tf.sqrt( tf.square( norm_ctx - tf.transpose( norm_mem ) ) ), axis = 1 )\n",
    "simi"
   ]
  },
  {
   "cell_type": "code",
   "execution_count": 9,
   "metadata": {},
   "outputs": [
    {
     "data": {
      "text/plain": [
       "<tf.Tensor 'Softmax:0' shape=(?, 3) dtype=float32>"
      ]
     },
     "execution_count": 9,
     "metadata": {},
     "output_type": "execute_result"
    }
   ],
   "source": [
    "scores = tf.nn.softmax( simi )\n",
    "scores"
   ]
  },
  {
   "cell_type": "code",
   "execution_count": 10,
   "metadata": {},
   "outputs": [
    {
     "name": "stdout",
     "output_type": "stream",
     "text": [
      "[[11.18034 ]\n",
      " [ 6.708204]]\n",
      "\n",
      "\n",
      "[[ 2.236068]\n",
      " [ 6.708204]\n",
      " [11.18034 ]]\n",
      "\n",
      "\n",
      "[[0.10557276 0.55278635 1.        ]\n",
      " [0.29289323 1.         0.29289317]]\n",
      "\n",
      "\n",
      "[[0.19960546 0.31217262 0.48822188]\n",
      " [0.24825509 0.50348985 0.24825507]]\n",
      "\n",
      "\n"
     ]
    }
   ],
   "source": [
    "print( sess( norm_ctx, { mem: mem_v, ctx: ctx_v } ) )\n",
    "print(\"\\n\")\n",
    "print( sess( norm_mem, { mem: mem_v, ctx: ctx_v } ) )\n",
    "print(\"\\n\")\n",
    "print( sess( simi, { mem: mem_v, ctx: ctx_v } ) )\n",
    "print(\"\\n\")\n",
    "print( sess( scores, { mem: mem_v, ctx: ctx_v } ) )\n",
    "print(\"\\n\")"
   ]
  },
  {
   "cell_type": "code",
   "execution_count": 11,
   "metadata": {},
   "outputs": [
    {
     "data": {
      "text/plain": [
       "<tf.Tensor 'MatMul:0' shape=(?, 5) dtype=float32>"
      ]
     },
     "execution_count": 11,
     "metadata": {},
     "output_type": "execute_result"
    }
   ],
   "source": [
    "retrived = tf.matmul( scores, mem )\n",
    "retrived"
   ]
  },
  {
   "cell_type": "code",
   "execution_count": 12,
   "metadata": {},
   "outputs": [
    {
     "data": {
      "text/plain": [
       "[array([[0.19960546, 0.31217262, 0.48822188],\n",
       "        [0.24825509, 0.50348985, 0.24825507]], dtype=float32),\n",
       " array([[3.5772328, 3.5772328, 3.5772328, 3.5772328, 3.5772328],\n",
       "        [3.       , 3.       , 3.       , 3.       , 3.       ]],\n",
       "       dtype=float32)]"
      ]
     },
     "execution_count": 12,
     "metadata": {},
     "output_type": "execute_result"
    }
   ],
   "source": [
    "sess( [ scores, retrived ], { mem: mem_v, ctx: ctx_v } )"
   ]
  },
  {
   "cell_type": "markdown",
   "metadata": {},
   "source": [
    "# Write Memory"
   ]
  },
  {
   "cell_type": "code",
   "execution_count": 13,
   "metadata": {},
   "outputs": [
    {
     "data": {
      "text/plain": [
       "<tf.Tensor 'Reshape:0' shape=(?, 3, 5) dtype=float32>"
      ]
     },
     "execution_count": 13,
     "metadata": {},
     "output_type": "execute_result"
    }
   ],
   "source": [
    "to_write = tf.tile( ctx, tf.stack( [ 1, mem_size ] ) )\n",
    "to_write = tf.reshape( to_write, [ batch_size, mem_size, 5 ] )\n",
    "to_write"
   ]
  },
  {
   "cell_type": "code",
   "execution_count": 18,
   "metadata": {},
   "outputs": [
    {
     "data": {
      "text/plain": [
       "array([[False, False,  True],\n",
       "       [False,  True, False]])"
      ]
     },
     "execution_count": 18,
     "metadata": {},
     "output_type": "execute_result"
    }
   ],
   "source": [
    "sess( scores >= tf.reduce_max( scores, axis = 1, keepdims = True ), { mem: mem_v, ctx: ctx_v }  )"
   ]
  },
  {
   "cell_type": "code",
   "execution_count": null,
   "metadata": {},
   "outputs": [],
   "source": [
    "expand_scores = tf.tile( scores, [ 1, 5 ] )\n",
    "new_scores = tf.reshape( expand_scores, [ batch_size, 5, 3 ] )\n",
    "new_scores"
   ]
  },
  {
   "cell_type": "code",
   "execution_count": null,
   "metadata": {},
   "outputs": [],
   "source": [
    "to_write_scores = tf.transpose( new_scores, perm=[0,2,1] )\n",
    "to_write_scores"
   ]
  },
  {
   "cell_type": "code",
   "execution_count": null,
   "metadata": {},
   "outputs": [],
   "source": [
    "to_write_s = to_write_scores * to_write\n",
    "to_write_s"
   ]
  },
  {
   "cell_type": "code",
   "execution_count": null,
   "metadata": {},
   "outputs": [],
   "source": [
    "sess( to_write, { mem: mem_v, ctx: ctx_v } )"
   ]
  },
  {
   "cell_type": "code",
   "execution_count": null,
   "metadata": {},
   "outputs": [],
   "source": [
    "sess( to_write_scores, { mem: mem_v, ctx: ctx_v } )"
   ]
  },
  {
   "cell_type": "code",
   "execution_count": null,
   "metadata": {},
   "outputs": [],
   "source": [
    "sess( to_write_s, { mem: mem_v, ctx: ctx_v } )"
   ]
  },
  {
   "cell_type": "code",
   "execution_count": null,
   "metadata": {},
   "outputs": [],
   "source": [
    "new_m = decay_memory * tf.reduce_mean( to_write_s, axis = 0 )\n",
    "new_m"
   ]
  },
  {
   "cell_type": "code",
   "execution_count": null,
   "metadata": {},
   "outputs": [],
   "source": [
    "old_m = ( ( 1.0 - decay_memory ) * mem )\n",
    "old_m"
   ]
  },
  {
   "cell_type": "code",
   "execution_count": null,
   "metadata": {},
   "outputs": [],
   "source": [
    "op_write = old_m + new_m\n",
    "op_write"
   ]
  },
  {
   "cell_type": "code",
   "execution_count": null,
   "metadata": {},
   "outputs": [],
   "source": [
    "tf_global_initializer( sess )"
   ]
  },
  {
   "cell_type": "code",
   "execution_count": null,
   "metadata": {},
   "outputs": [],
   "source": [
    "print(\"---------------Memory------------------\")\n",
    "print( sess( mem, \n",
    "      { mem: mem_v, ctx: ctx_v } ) )\n",
    "print(\"\\n-------------New Memory----------------\")\n",
    "print( sess( new_m, \n",
    "      { mem: mem_v, ctx: ctx_v } ) )\n",
    "print(\"\\n-----------Old Memory-------------------\")\n",
    "print( sess( old_m, \n",
    "      { mem: mem_v, ctx: ctx_v } ) )\n",
    "print(\"\\n---------Final Memory-------------------\")\n",
    "print( sess( op_write, \n",
    "      { mem: mem_v, ctx: ctx_v } ) )\n",
    "print(\"---------------------------------\")"
   ]
  },
  {
   "cell_type": "code",
   "execution_count": null,
   "metadata": {},
   "outputs": [],
   "source": []
  }
 ],
 "metadata": {
  "kernelspec": {
   "display_name": "Python 3",
   "language": "python",
   "name": "python3"
  },
  "language_info": {
   "codemirror_mode": {
    "name": "ipython",
    "version": 3
   },
   "file_extension": ".py",
   "mimetype": "text/x-python",
   "name": "python",
   "nbconvert_exporter": "python",
   "pygments_lexer": "ipython3",
   "version": "3.7.3"
  }
 },
 "nbformat": 4,
 "nbformat_minor": 2
}
